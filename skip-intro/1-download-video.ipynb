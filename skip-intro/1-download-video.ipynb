{
 "cells": [
  {
   "cell_type": "markdown",
   "metadata": {},
   "source": [
    "# Video Download Step"
   ]
  },
  {
   "cell_type": "code",
   "execution_count": 1,
   "metadata": {},
   "outputs": [],
   "source": [
    "import pandas as pd\n",
    "import requests\n",
    "import json\n",
    "import sys\n",
    "import os\n",
    "import errno"
   ]
  },
  {
   "cell_type": "code",
   "execution_count": 2,
   "metadata": {},
   "outputs": [],
   "source": [
    "def save_file(file_name, file_content):\n",
    "    if not os.path.exists(os.path.dirname(file_name)):\n",
    "        try:\n",
    "            os.makedirs(os.path.dirname(file_name))\n",
    "        except OSError as exc: # Guard against race condition\n",
    "            if exc.errno != errno.EEXIST:\n",
    "                raise\n",
    "    open(file_name, 'wb').write(file_content)"
   ]
  },
  {
   "cell_type": "code",
   "execution_count": 6,
   "metadata": {},
   "outputs": [],
   "source": [
    "def download_vods(video_ids, resolution=\"1080p_7896k_h264\", base_path=\"../videos/\", \n",
    "                  download_url = \"HOST_TO_DOWNLOAD\"):\n",
    "    for video_id in video_ids:\n",
    "    #for video_id in [6418927]:\n",
    "        url = 'http://HOST_TO_DOWNLOAD/videos/{0}.json'.format(video_id)\n",
    "        r = requests.get(url)\n",
    "        json = r.json()\n",
    "        resources = list()\n",
    "        if json['_type'].lower() == 'videocollection':\n",
    "            for resource_id in json['videos_ids']:\n",
    "                url = 'http://HOST_TO_DOWNLOAD/videos/{0}.json'.format(resource_id)\n",
    "                r = requests.get(url)\n",
    "                j = r.json()\n",
    "                for r in j['resources']:\n",
    "                    resources.append(r)\n",
    "        else:\n",
    "            resources = json['resources']\n",
    "        for resource in resources:\n",
    "             if(resolution in resource['path']):\n",
    "                r = requests.get(download_url + resource['path'], allow_redirects=True)\n",
    "                f_name = resource['path'].rsplit('/',1)[-1]\n",
    "                file_base_path = base_path + \"/\" + str(video_id) + \"/\" + f_name\n",
    "                save_file(file_base_path,r.content)"
   ]
  },
  {
   "cell_type": "markdown",
   "metadata": {},
   "source": [
    "# Just give a video id to be downloaded"
   ]
  },
  {
   "cell_type": "code",
   "execution_count": 5,
   "metadata": {},
   "outputs": [],
   "source": [
    "download_vods([6334458], resolution=\"360p_487k_h264\")"
   ]
  },
  {
   "cell_type": "code",
   "execution_count": null,
   "metadata": {},
   "outputs": [],
   "source": []
  }
 ],
 "metadata": {
  "kernelspec": {
   "display_name": "Python 3",
   "language": "python",
   "name": "python3"
  },
  "language_info": {
   "codemirror_mode": {
    "name": "ipython",
    "version": 3
   },
   "file_extension": ".py",
   "mimetype": "text/x-python",
   "name": "python",
   "nbconvert_exporter": "python",
   "pygments_lexer": "ipython3",
   "version": "3.6.5"
  }
 },
 "nbformat": 4,
 "nbformat_minor": 2
}
