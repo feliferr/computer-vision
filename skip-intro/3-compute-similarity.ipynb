{
 "cells": [
  {
   "cell_type": "markdown",
   "metadata": {},
   "source": [
    "# Compute Frame Similarity Using SSIM(Structural Similarity Index)"
   ]
  },
  {
   "cell_type": "code",
   "execution_count": 30,
   "metadata": {},
   "outputs": [],
   "source": [
    "from skimage.measure import compare_ssim\n",
    "import argparse\n",
    "import imutils\n",
    "import cv2\n",
    "import os\n",
    "import pandas as pd"
   ]
  },
  {
   "cell_type": "markdown",
   "metadata": {},
   "source": [
    "# Link dos steps"
   ]
  },
  {
   "cell_type": "markdown",
   "metadata": {},
   "source": [
    "https://www.pyimagesearch.com/2017/06/19/image-difference-with-opencv-and-python/"
   ]
  },
  {
   "cell_type": "markdown",
   "metadata": {},
   "source": [
    "# load the two input images"
   ]
  },
  {
   "cell_type": "code",
   "execution_count": 9,
   "metadata": {},
   "outputs": [],
   "source": [
    "imagemA = cv2.imread(\"output_scenes_frames/6334458-360p_487k_h264/cena-1/frame_2.0.jpg\")"
   ]
  },
  {
   "cell_type": "code",
   "execution_count": 14,
   "metadata": {},
   "outputs": [],
   "source": [
    "imagemB = cv2.imread(\"output_scenes_frames/6334458-360p_487k_h264/cena-2/frame_100.0.jpg\")"
   ]
  },
  {
   "cell_type": "markdown",
   "metadata": {},
   "source": [
    "# convert the images to grayscale"
   ]
  },
  {
   "cell_type": "code",
   "execution_count": 15,
   "metadata": {},
   "outputs": [],
   "source": [
    "grayA = cv2.cvtColor(imagemA, cv2.COLOR_BGR2GRAY)"
   ]
  },
  {
   "cell_type": "code",
   "execution_count": 16,
   "metadata": {},
   "outputs": [],
   "source": [
    "grayB = cv2.cvtColor(imagemB, cv2.COLOR_BGR2GRAY)"
   ]
  },
  {
   "cell_type": "markdown",
   "metadata": {},
   "source": [
    "# Compute the Structural Similarity Index (SSIM) between the two images, ensuring that the difference image is returned"
   ]
  },
  {
   "cell_type": "code",
   "execution_count": 17,
   "metadata": {},
   "outputs": [
    {
     "name": "stdout",
     "output_type": "stream",
     "text": [
      "SSIM: 0.49143576728317107\n"
     ]
    }
   ],
   "source": [
    "(score, diff) = compare_ssim(grayA, grayB, full=True)\n",
    "diff = (diff * 255).astype(\"uint8\")\n",
    "print(\"SSIM: {}\".format(score))"
   ]
  },
  {
   "cell_type": "markdown",
   "metadata": {},
   "source": [
    "# Função para avaliar em qual momento a abertura aparece no vídeo"
   ]
  },
  {
   "cell_type": "code",
   "execution_count": 20,
   "metadata": {},
   "outputs": [],
   "source": [
    "def calculate_similarity(path_frame1, path_frame2):\n",
    "    imagemA = cv2.imread(path_frame1)\n",
    "    imagemB = cv2.imread(path_frame2)\n",
    "    \n",
    "    #converter para escala de cinza\n",
    "    grayA = cv2.cvtColor(imagemA, cv2.COLOR_BGR2GRAY)\n",
    "    grayB = cv2.cvtColor(imagemB, cv2.COLOR_BGR2GRAY)\n",
    "    \n",
    "    #cálculo de similaridade\n",
    "    (score, _) = compare_ssim(grayA, grayB, full=True)\n",
    "    #diff = (diff * 255).astype(\"uint8\")\n",
    "    \n",
    "    return score"
   ]
  },
  {
   "cell_type": "code",
   "execution_count": 27,
   "metadata": {},
   "outputs": [],
   "source": [
    "def load_dataset(path_dataset):\n",
    "    \n",
    "    datasets = []\n",
    "    \n",
    "    #listar arquivos do dataset de abertura\n",
    "    for ds_file in os.listdir(path_dataset):\n",
    "        \n",
    "        # criar path do arquivo\n",
    "        file_ds_frame_path = \"{}/{}\".format(path_dataset,ds_file)\n",
    "        \n",
    "        # ler a imagem\n",
    "        img_file = cv2.imread(file_ds_frame_path)\n",
    "        \n",
    "        # converter para cinza\n",
    "        gray_file = cv2.cvtColor(img_file, cv2.COLOR_BGR2GRAY)\n",
    "        \n",
    "        # adiciona a imagem na lista\n",
    "        datasets.append(gray_file)\n",
    "    \n",
    "    return datasets "
   ]
  },
  {
   "cell_type": "code",
   "execution_count": 55,
   "metadata": {},
   "outputs": [],
   "source": [
    "SIMLARITY_THRESHOLD = 0.8\n",
    "\n",
    "def frames_sao_similares(frame1, frame2):\n",
    "    (score, _) = compare_ssim(frame1, frame2, full=True)\n",
    "    return score >= SIMLARITY_THRESHOLD\n",
    "\n",
    "def cena_é_parte_da_abertura(frames_cena, datasets_abertura):\n",
    "    for frame_cena in frames_cena:\n",
    "        for frame_abr in datasets_abertura:\n",
    "            if frames_sao_similares(frame_cena, frame_abr):\n",
    "                return True\n",
    "    return False\n",
    "\n",
    "PATH_CSV_CENAS = 'scenes_tmp/6334458-360p_487k_h264-Scenes.csv'\n",
    "PATH_CENAS_VIDEO = \"output_scenes_frames/6334458-360p_487k_h264/\"\n",
    "PATH_DATASET_ABERTURA = \"datasets_abertura/\"\n",
    "\n",
    "def encontrar_cenas_da_abertura(path_cenas_video, path_dataset_abertura):\n",
    "    #dataset_abertura = load_dataset(path_dataset_abertura)\n",
    "    cenas_abertura = []\n",
    "    for cena_path in path_cenas_video:\n",
    "        cena = load_dataset(path_video_scene)\n",
    "        if cena_é_parte_da_abertura(cena, dataset_abertura):\n",
    "            cenas_abertura.append(cena)\n",
    "    return cenas_abertura\n",
    "\n",
    "def main():\n",
    "    df_metadados_cenas = pd.read_csv(PATH_CSV_CENAS, skiprows=1)\n",
    "    dataset_abertura = load_dataset(PATH_DATASET_ABERTURA)\n",
    "    \n",
    "    lista_cenas = []\n",
    "    \n",
    "    for index, row in df_metadados_cenas.iterrows():\n",
    "        if index > 4: \n",
    "            break\n",
    "        print(\"Processando cena {}\".format(row[\"Scene Number\"]))\n",
    "        scene_number = row[\"Scene Number\"]\n",
    "        path_cena = \"{}/cena-{}\".format(PATH_CENAS_VIDEO, str(scene_number))\n",
    "        \n",
    "        frames_cena = load_dataset(path_cena)\n",
    "        if cena_é_parte_da_abertura(frames_cena, dataset_abertura):\n",
    "            print(\"A cena faz parte da abertura !\")\n",
    "            lista_cenas.append(scene_number)\n",
    "        else:\n",
    "            print(\"A cena não faz parte !\")\n",
    "    return lista_cenas"
   ]
  },
  {
   "cell_type": "code",
   "execution_count": null,
   "metadata": {},
   "outputs": [],
   "source": [
    "main()"
   ]
  },
  {
   "cell_type": "code",
   "execution_count": null,
   "metadata": {},
   "outputs": [],
   "source": []
  }
 ],
 "metadata": {
  "kernelspec": {
   "display_name": "Python 3",
   "language": "python",
   "name": "python3"
  },
  "language_info": {
   "codemirror_mode": {
    "name": "ipython",
    "version": 3
   },
   "file_extension": ".py",
   "mimetype": "text/x-python",
   "name": "python",
   "nbconvert_exporter": "python",
   "pygments_lexer": "ipython3",
   "version": "3.6.5"
  }
 },
 "nbformat": 4,
 "nbformat_minor": 2
}
