{
 "cells": [
  {
   "cell_type": "markdown",
   "metadata": {
    "colab_type": "text",
    "id": "Y7YUI4Ss5hyX"
   },
   "source": [
    "# **MODVIS: Trabalho Final**"
   ]
  },
  {
   "cell_type": "markdown",
   "metadata": {
    "colab_type": "text",
    "id": "GJKMFOtA6-Cu"
   },
   "source": [
    "### **Alunos**:\n",
    "\n",
    "- Felipe Ferreira\n",
    "- Ian Nunes"
   ]
  },
  {
   "cell_type": "code",
   "execution_count": 1,
   "metadata": {
    "colab": {
     "base_uri": "https://localhost:8080/",
     "height": 125
    },
    "colab_type": "code",
    "id": "sK-wnfRM2evB",
    "outputId": "21970a25-40e5-42be-d5c3-5bfe28d18c76"
   },
   "outputs": [],
   "source": [
    "# from google.colab import drive\n",
    "# drive.mount('/content/drive')"
   ]
  },
  {
   "cell_type": "markdown",
   "metadata": {
    "colab_type": "text",
    "id": "3tCPFffkfh5o"
   },
   "source": [
    "# **Experimentação do C3DPO: Canonical 3D Pose Networks for Non-Rigid Structure From Motion**"
   ]
  },
  {
   "cell_type": "markdown",
   "metadata": {
    "colab_type": "text",
    "id": "QY0-yHGIfpPB"
   },
   "source": [
    "\n",
    "O C3DPO é um método proposto por pesquisadores do Facebook para extrair modelos 3D de objetos deformáveis a partir de anotações de keypoints 2D em imagens sem restrições. Isso é feito através de um modelo de Deep Learning que reconstrói um objeto 3D a partir de uma única visualização de cada vez, contabilizando oclusões parciais e fatorando explicitamente os efeitos das alterações do ponto de vista e das deformações do objeto. Para alcançar essa fatoração, os autores introduziram uma nova técnica de regularização."
   ]
  },
  {
   "cell_type": "markdown",
   "metadata": {
    "colab_type": "text",
    "id": "-8GN_K4p28vZ"
   },
   "source": [
    "## **Overview da Técnica**"
   ]
  },
  {
   "cell_type": "markdown",
   "metadata": {
    "colab_type": "text",
    "id": "FrllS5EX3C3H"
   },
   "source": [
    "![alt text](https://drive.google.com/uc?id=1Xu_jRVn1wIkfgCN8fJg-X8qutSXrdq64)"
   ]
  },
  {
   "cell_type": "markdown",
   "metadata": {},
   "source": [
    "# Estrutura do notebook"
   ]
  },
  {
   "cell_type": "markdown",
   "metadata": {},
   "source": [
    "1. Explicar a teoria\n",
    "2. Explicar a rede neural\n",
    "3. Carregar um modelo pré-treinado\n",
    "4. Mostrar alguns exemplos de predição com imagem\n",
    "5. Conclusão"
   ]
  },
  {
   "cell_type": "markdown",
   "metadata": {},
   "source": [
    "# Para a entrega e apresentação\n",
    "\n",
    "1. Preparar o notebook\n",
    "2. Preparar o código do c3dpo, removendo arquivos desnecessários\n",
    "3. Preparar uma apresentação ppt sobre o trabalho"
   ]
  },
  {
   "cell_type": "code",
   "execution_count": 1,
   "metadata": {
    "colab": {},
    "colab_type": "code",
    "id": "XHjafPyTvGLF"
   },
   "outputs": [
    {
     "name": "stdout",
     "output_type": "stream",
     "text": [
      "found previous model ./data/exps/c3dpo/pretrained_h36m/model_epoch_00000000.pth\n",
      "   -> resuming\n",
      "   -> clearing stats\n",
      "tensor([[ 0.0000,  0.2296,  0.1577,  0.1479, -0.2335, -0.1450,  0.0276,  0.0090,\n",
      "          0.0065, -0.0022,  0.0566, -0.3193, -0.4960, -0.4642,  0.3650,  0.8939,\n",
      "          1.3002],\n",
      "        [ 0.0000, -0.0311,  0.8875,  1.8011,  0.0319,  0.9565,  1.8620, -0.5053,\n",
      "         -1.0108, -1.2185, -1.4179, -0.9106, -0.3406,  0.1310, -0.9744, -0.7978,\n",
      "         -0.8496]])\n",
      "tensor([[ 0.0000,  0.2296,  0.1577,  0.1479, -0.2335, -0.1450,  0.0276,  0.0090,\n",
      "          0.0065, -0.0022,  0.0566, -0.3193, -0.4960, -0.4642,  0.3650,  0.8939,\n",
      "          1.3002],\n",
      "        [ 0.0000, -0.0311,  0.8875,  1.8011,  0.0319,  0.9565,  1.8620, -0.5053,\n",
      "         -1.0108, -1.2185, -1.4179, -0.9106, -0.3406,  0.1310, -0.9744, -0.7978,\n",
      "         -0.8496],\n",
      "        [ 0.0840,  0.2945,  0.3979,  0.7644, -0.1155, -0.2319, -0.0493,  0.0630,\n",
      "         -0.0876, -0.2189, -0.1735, -0.2370, -0.4426, -0.8497,  0.1591,  0.4209,\n",
      "          0.2732]], grad_fn=<SelectBackward>)\n",
      "!cant load image None\n",
      "Setting up a new session...\n",
      "Exception in user code:\n",
      "------------------------------------------------------------\n",
      "Traceback (most recent call last):\n",
      "  File \"/home/felipe/.virtualenvs/env-c3dpo/lib/python3.6/site-packages/urllib3/connection.py\", line 157, in _new_conn\n",
      "    (self._dns_host, self.port), self.timeout, **extra_kw\n",
      "  File \"/home/felipe/.virtualenvs/env-c3dpo/lib/python3.6/site-packages/urllib3/util/connection.py\", line 84, in create_connection\n",
      "    raise err\n",
      "  File \"/home/felipe/.virtualenvs/env-c3dpo/lib/python3.6/site-packages/urllib3/util/connection.py\", line 74, in create_connection\n",
      "    sock.connect(sa)\n",
      "ConnectionRefusedError: [Errno 111] Connection refused\n",
      "\n",
      "During handling of the above exception, another exception occurred:\n",
      "\n",
      "Traceback (most recent call last):\n",
      "  File \"/home/felipe/.virtualenvs/env-c3dpo/lib/python3.6/site-packages/urllib3/connectionpool.py\", line 672, in urlopen\n",
      "    chunked=chunked,\n",
      "  File \"/home/felipe/.virtualenvs/env-c3dpo/lib/python3.6/site-packages/urllib3/connectionpool.py\", line 387, in _make_request\n",
      "    conn.request(method, url, **httplib_request_kw)\n",
      "  File \"/usr/lib/python3.6/http/client.py\", line 1254, in request\n",
      "    self._send_request(method, url, body, headers, encode_chunked)\n",
      "  File \"/usr/lib/python3.6/http/client.py\", line 1300, in _send_request\n",
      "    self.endheaders(body, encode_chunked=encode_chunked)\n",
      "  File \"/usr/lib/python3.6/http/client.py\", line 1249, in endheaders\n",
      "    self._send_output(message_body, encode_chunked=encode_chunked)\n",
      "  File \"/usr/lib/python3.6/http/client.py\", line 1036, in _send_output\n",
      "    self.send(msg)\n",
      "  File \"/usr/lib/python3.6/http/client.py\", line 974, in send\n",
      "    self.connect()\n",
      "  File \"/home/felipe/.virtualenvs/env-c3dpo/lib/python3.6/site-packages/urllib3/connection.py\", line 184, in connect\n",
      "    conn = self._new_conn()\n",
      "  File \"/home/felipe/.virtualenvs/env-c3dpo/lib/python3.6/site-packages/urllib3/connection.py\", line 169, in _new_conn\n",
      "    self, \"Failed to establish a new connection: %s\" % e\n",
      "urllib3.exceptions.NewConnectionError: <urllib3.connection.HTTPConnection object at 0x7f7a6c8f9d30>: Failed to establish a new connection: [Errno 111] Connection refused\n",
      "\n",
      "During handling of the above exception, another exception occurred:\n",
      "\n",
      "Traceback (most recent call last):\n",
      "  File \"/home/felipe/.virtualenvs/env-c3dpo/lib/python3.6/site-packages/requests/adapters.py\", line 449, in send\n",
      "    timeout=timeout\n",
      "  File \"/home/felipe/.virtualenvs/env-c3dpo/lib/python3.6/site-packages/urllib3/connectionpool.py\", line 720, in urlopen\n",
      "    method, url, error=e, _pool=self, _stacktrace=sys.exc_info()[2]\n",
      "  File \"/home/felipe/.virtualenvs/env-c3dpo/lib/python3.6/site-packages/urllib3/util/retry.py\", line 436, in increment\n",
      "    raise MaxRetryError(_pool, url, error or ResponseError(cause))\n",
      "urllib3.exceptions.MaxRetryError: HTTPConnectionPool(host='localhost', port=8097): Max retries exceeded with url: /env/main (Caused by NewConnectionError('<urllib3.connection.HTTPConnection object at 0x7f7a6c8f9d30>: Failed to establish a new connection: [Errno 111] Connection refused',))\n",
      "\n",
      "During handling of the above exception, another exception occurred:\n",
      "\n",
      "Traceback (most recent call last):\n",
      "  File \"/home/felipe/.virtualenvs/env-c3dpo/lib/python3.6/site-packages/visdom/__init__.py\", line 711, in _send\n",
      "    data=json.dumps(msg),\n",
      "  File \"/home/felipe/.virtualenvs/env-c3dpo/lib/python3.6/site-packages/visdom/__init__.py\", line 677, in _handle_post\n",
      "    r = self.session.post(url, data=data)\n",
      "  File \"/home/felipe/.virtualenvs/env-c3dpo/lib/python3.6/site-packages/requests/sessions.py\", line 581, in post\n",
      "    return self.request('POST', url, data=data, json=json, **kwargs)\n",
      "  File \"/home/felipe/.virtualenvs/env-c3dpo/lib/python3.6/site-packages/requests/sessions.py\", line 533, in request\n",
      "    resp = self.send(prep, **send_kwargs)\n",
      "  File \"/home/felipe/.virtualenvs/env-c3dpo/lib/python3.6/site-packages/requests/sessions.py\", line 646, in send\n",
      "    r = adapter.send(request, **kwargs)\n",
      "  File \"/home/felipe/.virtualenvs/env-c3dpo/lib/python3.6/site-packages/requests/adapters.py\", line 516, in send\n",
      "    raise ConnectionError(e, request=request)\n",
      "requests.exceptions.ConnectionError: HTTPConnectionPool(host='localhost', port=8097): Max retries exceeded with url: /env/main (Caused by NewConnectionError('<urllib3.connection.HTTPConnection object at 0x7f7a6c8f9d30>: Failed to establish a new connection: [Errno 111] Connection refused',))\n",
      "[Errno 111] Connection refused\n",
      "Exception in user code:\n",
      "------------------------------------------------------------\n",
      "Traceback (most recent call last):\n",
      "  File \"/home/felipe/.virtualenvs/env-c3dpo/lib/python3.6/site-packages/urllib3/connection.py\", line 157, in _new_conn\n",
      "    (self._dns_host, self.port), self.timeout, **extra_kw\n",
      "  File \"/home/felipe/.virtualenvs/env-c3dpo/lib/python3.6/site-packages/urllib3/util/connection.py\", line 84, in create_connection\n",
      "    raise err\n",
      "  File \"/home/felipe/.virtualenvs/env-c3dpo/lib/python3.6/site-packages/urllib3/util/connection.py\", line 74, in create_connection\n",
      "    sock.connect(sa)\n",
      "ConnectionRefusedError: [Errno 111] Connection refused\n",
      "\n",
      "During handling of the above exception, another exception occurred:\n",
      "\n",
      "Traceback (most recent call last):\n",
      "  File \"/home/felipe/.virtualenvs/env-c3dpo/lib/python3.6/site-packages/urllib3/connectionpool.py\", line 672, in urlopen\n",
      "    chunked=chunked,\n",
      "  File \"/home/felipe/.virtualenvs/env-c3dpo/lib/python3.6/site-packages/urllib3/connectionpool.py\", line 387, in _make_request\n",
      "    conn.request(method, url, **httplib_request_kw)\n",
      "  File \"/usr/lib/python3.6/http/client.py\", line 1254, in request\n",
      "    self._send_request(method, url, body, headers, encode_chunked)\n",
      "  File \"/usr/lib/python3.6/http/client.py\", line 1300, in _send_request\n",
      "    self.endheaders(body, encode_chunked=encode_chunked)\n",
      "  File \"/usr/lib/python3.6/http/client.py\", line 1249, in endheaders\n",
      "    self._send_output(message_body, encode_chunked=encode_chunked)\n",
      "  File \"/usr/lib/python3.6/http/client.py\", line 1036, in _send_output\n",
      "    self.send(msg)\n",
      "  File \"/usr/lib/python3.6/http/client.py\", line 974, in send\n",
      "    self.connect()\n",
      "  File \"/home/felipe/.virtualenvs/env-c3dpo/lib/python3.6/site-packages/urllib3/connection.py\", line 184, in connect\n",
      "    conn = self._new_conn()\n",
      "  File \"/home/felipe/.virtualenvs/env-c3dpo/lib/python3.6/site-packages/urllib3/connection.py\", line 169, in _new_conn\n",
      "    self, \"Failed to establish a new connection: %s\" % e\n",
      "urllib3.exceptions.NewConnectionError: <urllib3.connection.HTTPConnection object at 0x7f7a6c625080>: Failed to establish a new connection: [Errno 111] Connection refused\n",
      "\n",
      "During handling of the above exception, another exception occurred:\n",
      "\n",
      "Traceback (most recent call last):\n",
      "  File \"/home/felipe/.virtualenvs/env-c3dpo/lib/python3.6/site-packages/requests/adapters.py\", line 449, in send\n",
      "    timeout=timeout\n",
      "  File \"/home/felipe/.virtualenvs/env-c3dpo/lib/python3.6/site-packages/urllib3/connectionpool.py\", line 720, in urlopen\n",
      "    method, url, error=e, _pool=self, _stacktrace=sys.exc_info()[2]\n",
      "  File \"/home/felipe/.virtualenvs/env-c3dpo/lib/python3.6/site-packages/urllib3/util/retry.py\", line 436, in increment\n",
      "    raise MaxRetryError(_pool, url, error or ResponseError(cause))\n",
      "urllib3.exceptions.MaxRetryError: HTTPConnectionPool(host='localhost', port=8097): Max retries exceeded with url: /events (Caused by NewConnectionError('<urllib3.connection.HTTPConnection object at 0x7f7a6c625080>: Failed to establish a new connection: [Errno 111] Connection refused',))\n",
      "\n",
      "During handling of the above exception, another exception occurred:\n",
      "\n",
      "Traceback (most recent call last):\n",
      "  File \"/home/felipe/.virtualenvs/env-c3dpo/lib/python3.6/site-packages/visdom/__init__.py\", line 711, in _send\n",
      "    data=json.dumps(msg),\n",
      "  File \"/home/felipe/.virtualenvs/env-c3dpo/lib/python3.6/site-packages/visdom/__init__.py\", line 677, in _handle_post\n",
      "    r = self.session.post(url, data=data)\n",
      "  File \"/home/felipe/.virtualenvs/env-c3dpo/lib/python3.6/site-packages/requests/sessions.py\", line 581, in post\n",
      "    return self.request('POST', url, data=data, json=json, **kwargs)\n",
      "  File \"/home/felipe/.virtualenvs/env-c3dpo/lib/python3.6/site-packages/requests/sessions.py\", line 533, in request\n",
      "    resp = self.send(prep, **send_kwargs)\n",
      "  File \"/home/felipe/.virtualenvs/env-c3dpo/lib/python3.6/site-packages/requests/sessions.py\", line 646, in send\n",
      "    r = adapter.send(request, **kwargs)\n",
      "  File \"/home/felipe/.virtualenvs/env-c3dpo/lib/python3.6/site-packages/requests/adapters.py\", line 516, in send\n",
      "    raise ConnectionError(e, request=request)\n",
      "requests.exceptions.ConnectionError: HTTPConnectionPool(host='localhost', port=8097): Max retries exceeded with url: /events (Caused by NewConnectionError('<urllib3.connection.HTTPConnection object at 0x7f7a6c625080>: Failed to establish a new connection: [Errno 111] Connection refused',))\n",
      "Saving input keypoints to ./data/exps/c3dpo/pretrained_h36m/demo_projections.png\n",
      "tensor([[ 0.0000,  0.2296,  0.1577,  0.1479, -0.2335, -0.1450,  0.0276,  0.0090,\n",
      "          0.0065, -0.0022,  0.0566, -0.3193, -0.4960, -0.4642,  0.3650,  0.8939,\n",
      "          1.3002],\n",
      "        [ 0.0000, -0.0311,  0.8875,  1.8011,  0.0319,  0.9565,  1.8620, -0.5053,\n",
      "         -1.0108, -1.2185, -1.4179, -0.9106, -0.3406,  0.1310, -0.9744, -0.7978,\n",
      "         -0.8496],\n",
      "        [ 0.0840,  0.2945,  0.3979,  0.7644, -0.1155, -0.2319, -0.0493,  0.0630,\n",
      "         -0.0876, -0.2189, -0.1735, -0.2370, -0.4426, -0.8497,  0.1591,  0.4209,\n",
      "          0.2732]])\n",
      "tensor([[-0.0902,  0.1394,  0.0675,  0.0577, -0.3237, -0.2352, -0.0626, -0.0812,\n",
      "         -0.0837, -0.0924, -0.0336, -0.4095, -0.5862, -0.5544,  0.2748,  0.8037,\n",
      "          1.2100],\n",
      "        [ 0.1404,  0.1093,  1.0279,  1.9415,  0.1723,  1.0969,  2.0024, -0.3649,\n",
      "         -0.8704, -1.0781, -1.2775, -0.7702, -0.2002,  0.2714, -0.8340, -0.6574,\n",
      "         -0.7092],\n",
      "        [ 0.0810,  0.2915,  0.3949,  0.7614, -0.1185, -0.2349, -0.0523,  0.0600,\n",
      "         -0.0906, -0.2219, -0.1765, -0.2400, -0.4456, -0.8527,  0.1561,  0.4179,\n",
      "          0.2702]])\n",
      "tensor([[[-0.0902,  0.1394,  0.0675,  ...,  0.2748,  0.8037,  1.2100],\n",
      "         [ 0.1404,  0.1093,  1.0279,  ..., -0.8340, -0.6574, -0.7092],\n",
      "         [ 0.0810,  0.2915,  0.3949,  ...,  0.1561,  0.4179,  0.2702]],\n",
      "\n",
      "        [[-0.0761,  0.1843,  0.1299,  ...,  0.2962,  0.8603,  1.2376],\n",
      "         [ 0.1404,  0.1093,  1.0279,  ..., -0.8340, -0.6574, -0.7092],\n",
      "         [ 0.0944,  0.2654,  0.3790,  ...,  0.1100,  0.2837,  0.0727]],\n",
      "\n",
      "        [[-0.0599,  0.2245,  0.1890,  ...,  0.3100,  0.8946,  1.2333],\n",
      "         [ 0.1404,  0.1093,  1.0279,  ..., -0.8340, -0.6574, -0.7092],\n",
      "         [ 0.1054,  0.2324,  0.3532,  ...,  0.0610,  0.1420, -0.1268]],\n",
      "\n",
      "        ...,\n",
      "\n",
      "        [[-0.1112,  0.0399, -0.0611,  ...,  0.2112,  0.6300,  1.0622],\n",
      "         [ 0.1404,  0.1093,  1.0279,  ..., -0.8340, -0.6574, -0.7092],\n",
      "         [ 0.0483,  0.3206,  0.3960,  ...,  0.2350,  0.6509,  0.6394]],\n",
      "\n",
      "        [[-0.1020,  0.0908,  0.0033,  ...,  0.2462,  0.7262,  1.1510],\n",
      "         [ 0.1404,  0.1093,  1.0279,  ..., -0.8340, -0.6574, -0.7092],\n",
      "         [ 0.0655,  0.3101,  0.4006,  ...,  0.1981,  0.5414,  0.4608]],\n",
      "\n",
      "        [[-0.0902,  0.1394,  0.0675,  ...,  0.2748,  0.8037,  1.2100],\n",
      "         [ 0.1404,  0.1093,  1.0279,  ..., -0.8340, -0.6574, -0.7092],\n",
      "         [ 0.0810,  0.2915,  0.3949,  ...,  0.1561,  0.4179,  0.2702]]])\n",
      "torch.Size([40, 3, 17])\n",
      "video writer for ./data/exps/c3dpo/pretrained_h36m/demo_shape.mp4\n",
      "exporting ./data/exps/c3dpo/pretrained_h36m/demo_shape_0000.png\n",
      "exporting ./data/exps/c3dpo/pretrained_h36m/demo_shape_0006.png\n",
      "exporting ./data/exps/c3dpo/pretrained_h36m/demo_shape_0013.png\n",
      "exporting ./data/exps/c3dpo/pretrained_h36m/demo_shape_0020.png\n",
      "exporting ./data/exps/c3dpo/pretrained_h36m/demo_shape_0026.png\n",
      "exporting ./data/exps/c3dpo/pretrained_h36m/demo_shape_0032.png\n",
      "exporting ./data/exps/c3dpo/pretrained_h36m/demo_shape_0039.png\n",
      "ffmpeg -r 20 -i /tmp/tmpyk96uln6/frame_%08d.png -vcodec h264 -f mp4                        -y -b 2000k -pix_fmt yuv420p ./data/exps/c3dpo/pretrained_h36m/demo_shape.mp4\n"
     ]
    }
   ],
   "source": [
    "!python ./demo.py"
   ]
  },
  {
   "cell_type": "markdown",
   "metadata": {},
   "source": [
    "![alt text](https://github.com/facebookresearch/c3dpo_nrsfm/raw/master/splash_video.gif) "
   ]
  },
  {
   "cell_type": "code",
   "execution_count": null,
   "metadata": {},
   "outputs": [],
   "source": []
  },
  {
   "cell_type": "code",
   "execution_count": null,
   "metadata": {},
   "outputs": [],
   "source": []
  },
  {
   "cell_type": "code",
   "execution_count": null,
   "metadata": {},
   "outputs": [],
   "source": []
  },
  {
   "cell_type": "code",
   "execution_count": null,
   "metadata": {},
   "outputs": [],
   "source": []
  },
  {
   "cell_type": "code",
   "execution_count": null,
   "metadata": {},
   "outputs": [],
   "source": []
  },
  {
   "cell_type": "code",
   "execution_count": null,
   "metadata": {},
   "outputs": [],
   "source": []
  },
  {
   "cell_type": "code",
   "execution_count": null,
   "metadata": {},
   "outputs": [],
   "source": []
  },
  {
   "cell_type": "code",
   "execution_count": null,
   "metadata": {},
   "outputs": [],
   "source": []
  },
  {
   "cell_type": "code",
   "execution_count": null,
   "metadata": {},
   "outputs": [],
   "source": []
  },
  {
   "cell_type": "code",
   "execution_count": null,
   "metadata": {},
   "outputs": [],
   "source": []
  },
  {
   "cell_type": "markdown",
   "metadata": {
    "colab_type": "text",
    "id": "GZIsyDdW52l1"
   },
   "source": [
    "# **Passos**:"
   ]
  },
  {
   "cell_type": "markdown",
   "metadata": {
    "colab_type": "text",
    "id": "RqlKq0XC56DJ"
   },
   "source": [
    "* Treinar o modelo do paper (Doing)\n",
    "* Treinar o modelo COCO (TODO)\n",
    "* Criar o notebook de documentação dos experimentos (Doing)\n",
    "* Experimentar o modelo em imagens 2D (TODO)"
   ]
  },
  {
   "cell_type": "code",
   "execution_count": null,
   "metadata": {
    "colab": {},
    "colab_type": "code",
    "id": "-LGHgQp_hnZW"
   },
   "outputs": [],
   "source": []
  }
 ],
 "metadata": {
  "colab": {
   "name": "MODVIS_trabalho_final.ipynb",
   "provenance": []
  },
  "kernelspec": {
   "display_name": "Python 3",
   "language": "python",
   "name": "python3"
  },
  "language_info": {
   "codemirror_mode": {
    "name": "ipython",
    "version": 3
   },
   "file_extension": ".py",
   "mimetype": "text/x-python",
   "name": "python",
   "nbconvert_exporter": "python",
   "pygments_lexer": "ipython3",
   "version": "3.6.8"
  }
 },
 "nbformat": 4,
 "nbformat_minor": 4
}
